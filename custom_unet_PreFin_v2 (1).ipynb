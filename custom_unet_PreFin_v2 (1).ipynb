{
  "nbformat": 4,
  "nbformat_minor": 0,
  "metadata": {
    "colab": {
      "provenance": [],
      "machine_shape": "hm"
    },
    "kernelspec": {
      "name": "python3",
      "display_name": "Python 3"
    },
    "language_info": {
      "name": "python"
    }
  },
  "cells": [
    {
      "cell_type": "code",
      "source": [
        "!git clone https://github.com/lgy112112/Unet_Denoise_with_Tutorial.git\n",
        "%cd Unet_Denoise_with_Tutorial"
      ],
      "metadata": {
        "colab": {
          "base_uri": "https://localhost:8080/"
        },
        "id": "JjeHDVfLCLFH",
        "outputId": "b56679d4-d320-49fa-c27d-91e82f81a079"
      },
      "execution_count": 1,
      "outputs": [
        {
          "output_type": "stream",
          "name": "stdout",
          "text": [
            "Cloning into 'Unet_Denoise_with_Tutorial'...\n",
            "remote: Enumerating objects: 20, done.\u001b[K\n",
            "remote: Counting objects: 100% (20/20), done.\u001b[K\n",
            "remote: Compressing objects: 100% (20/20), done.\u001b[K\n",
            "remote: Total 20 (delta 0), reused 20 (delta 0), pack-reused 0\u001b[K\n",
            "Receiving objects: 100% (20/20), 10.63 KiB | 10.63 MiB/s, done.\n",
            "/content/Unet_Denoise_with_Tutorial\n"
          ]
        }
      ]
    },
    {
      "cell_type": "code",
      "source": [
        "!wget https://www.repository.cam.ac.uk/bitstreams/5960ab2b-5ea2-4db1-96ac-15b3605e7485/download\n",
        "!unzip download\n",
        "!rm -rf ./MIASDBv1.21/*.pdf\n",
        "!mv ./MIASDBv1.21 ./origin"
      ],
      "metadata": {
        "colab": {
          "base_uri": "https://localhost:8080/"
        },
        "id": "gZMZUxeUuK_R",
        "outputId": "f7163fb8-eed6-4f68-dc95-082654531e29"
      },
      "execution_count": 2,
      "outputs": [
        {
          "output_type": "stream",
          "name": "stdout",
          "text": [
            "--2024-01-13 14:18:10--  https://www.repository.cam.ac.uk/bitstreams/5960ab2b-5ea2-4db1-96ac-15b3605e7485/download\n",
            "Resolving www.repository.cam.ac.uk (www.repository.cam.ac.uk)... 131.111.98.102\n",
            "Connecting to www.repository.cam.ac.uk (www.repository.cam.ac.uk)|131.111.98.102|:443... connected.\n",
            "HTTP request sent, awaiting response... 302 Found\n",
            "Location: https://api.repository.cam.ac.uk/server/api/core/bitstreams/5960ab2b-5ea2-4db1-96ac-15b3605e7485/content [following]\n",
            "--2024-01-13 14:18:12--  https://api.repository.cam.ac.uk/server/api/core/bitstreams/5960ab2b-5ea2-4db1-96ac-15b3605e7485/content\n",
            "Resolving api.repository.cam.ac.uk (api.repository.cam.ac.uk)... 131.111.98.101\n",
            "Connecting to api.repository.cam.ac.uk (api.repository.cam.ac.uk)|131.111.98.101|:443... connected.\n",
            "HTTP request sent, awaiting response... 200 200\n",
            "Length: 1617327652 (1.5G) [application/zip]\n",
            "Saving to: ‘download’\n",
            "\n",
            "download            100%[===================>]   1.51G  12.8MB/s    in 2m 0s   \n",
            "\n",
            "2024-01-13 14:20:14 (12.8 MB/s) - ‘download’ saved [1617327652/1617327652]\n",
            "\n",
            "Archive:  download\n",
            "   creating: MIASDBv1.21/\n",
            "  inflating: MIASDBv1.21/00README.pdf  \n",
            "  inflating: MIASDBv1.21/mdb001lm.pgm  \n",
            "  inflating: MIASDBv1.21/mdb002rl.pgm  \n",
            "  inflating: MIASDBv1.21/mdb003ll.pgm  \n",
            "  inflating: MIASDBv1.21/mdb004rl.pgm  \n",
            "  inflating: MIASDBv1.21/mdb005ll.pgm  \n",
            "  inflating: MIASDBv1.21/mdb006rl.pgm  \n",
            "  inflating: MIASDBv1.21/mdb007ll.pgm  \n",
            "  inflating: MIASDBv1.21/mdb008rl.pgm  \n",
            "  inflating: MIASDBv1.21/mdb009ll.pgm  \n",
            "  inflating: MIASDBv1.21/mdb010rm.pgm  \n",
            "  inflating: MIASDBv1.21/mdb011ll.pgm  \n",
            "  inflating: MIASDBv1.21/mdb012rl.pgm  \n",
            "  inflating: MIASDBv1.21/mdb013ll.pgm  \n",
            "  inflating: MIASDBv1.21/mdb014rl.pgm  \n",
            "  inflating: MIASDBv1.21/mdb015lm.pgm  \n",
            "  inflating: MIASDBv1.21/mdb016rm.pgm  \n",
            "  inflating: MIASDBv1.21/mdb017ls.pgm  \n",
            "  inflating: MIASDBv1.21/mdb018rs.pgm  \n",
            "  inflating: MIASDBv1.21/mdb019ll.pgm  \n",
            "  inflating: MIASDBv1.21/mdb020rl.pgm  \n",
            "  inflating: MIASDBv1.21/mdb021ll.pgm  \n",
            "  inflating: MIASDBv1.21/mdb022rm.pgm  \n",
            "  inflating: MIASDBv1.21/mdb023ll.pgm  \n",
            "  inflating: MIASDBv1.21/mdb024rl.pgm  \n",
            "  inflating: MIASDBv1.21/mdb025ll.pgm  \n",
            "  inflating: MIASDBv1.21/mdb026rl.pgm  \n",
            "  inflating: MIASDBv1.21/mdb027ll.pgm  \n",
            "  inflating: MIASDBv1.21/mdb028rl.pgm  \n",
            "  inflating: MIASDBv1.21/mdb029ll.pgm  \n",
            "  inflating: MIASDBv1.21/mdb030rm.pgm  \n",
            "  inflating: MIASDBv1.21/mdb031ll.pgm  \n",
            "  inflating: MIASDBv1.21/mdb032rl.pgm  \n",
            "  inflating: MIASDBv1.21/mdb033ls.pgm  \n",
            "  inflating: MIASDBv1.21/mdb034rs.pgm  \n",
            "  inflating: MIASDBv1.21/mdb035ls.pgm  \n",
            "  inflating: MIASDBv1.21/mdb036rs.pgm  \n",
            "  inflating: MIASDBv1.21/mdb037ls.pgm  \n",
            "  inflating: MIASDBv1.21/mdb038rs.pgm  \n",
            "  inflating: MIASDBv1.21/mdb039ls.pgm  \n",
            "  inflating: MIASDBv1.21/mdb040rs.pgm  \n",
            "  inflating: MIASDBv1.21/mdb041ll.pgm  \n",
            "  inflating: MIASDBv1.21/mdb042rl.pgm  \n",
            "  inflating: MIASDBv1.21/mdb043ls.pgm  \n",
            "  inflating: MIASDBv1.21/mdb044rs.pgm  \n",
            "  inflating: MIASDBv1.21/mdb045lm.pgm  \n",
            "  inflating: MIASDBv1.21/mdb046rm.pgm  \n",
            "  inflating: MIASDBv1.21/mdb047lm.pgm  \n",
            "  inflating: MIASDBv1.21/mdb048rm.pgm  \n",
            "  inflating: MIASDBv1.21/mdb049ll.pgm  \n",
            "  inflating: MIASDBv1.21/mdb050rl.pgm  \n",
            "  inflating: MIASDBv1.21/mdb051ll.pgm  \n",
            "  inflating: MIASDBv1.21/mdb052rm.pgm  \n",
            "  inflating: MIASDBv1.21/mdb053ls.pgm  \n",
            "  inflating: MIASDBv1.21/mdb054rs.pgm  \n",
            "  inflating: MIASDBv1.21/mdb055lm.pgm  \n",
            "  inflating: MIASDBv1.21/mdb056rm.pgm  \n",
            "  inflating: MIASDBv1.21/mdb057ll.pgm  \n",
            "  inflating: MIASDBv1.21/mdb058rl.pgm  \n",
            "  inflating: MIASDBv1.21/mdb059ls.pgm  \n",
            "  inflating: MIASDBv1.21/mdb060rs.pgm  \n",
            "  inflating: MIASDBv1.21/mdb061ls.pgm  \n",
            "  inflating: MIASDBv1.21/mdb062rs.pgm  \n",
            "  inflating: MIASDBv1.21/mdb063lm.pgm  \n",
            "  inflating: MIASDBv1.21/mdb064rm.pgm  \n",
            "  inflating: MIASDBv1.21/mdb065lm.pgm  \n",
            "  inflating: MIASDBv1.21/mdb066rm.pgm  \n",
            "  inflating: MIASDBv1.21/mdb067ll.pgm  \n",
            "  inflating: MIASDBv1.21/mdb068rl.pgm  \n",
            "  inflating: MIASDBv1.21/mdb069ll.pgm  \n",
            "  inflating: MIASDBv1.21/mdb070rl.pgm  \n",
            "  inflating: MIASDBv1.21/mdb071lm.pgm  \n",
            "  inflating: MIASDBv1.21/mdb072rm.pgm  \n",
            "  inflating: MIASDBv1.21/mdb073ls.pgm  \n",
            "  inflating: MIASDBv1.21/mdb074rs.pgm  \n",
            "  inflating: MIASDBv1.21/mdb075lm.pgm  \n",
            "  inflating: MIASDBv1.21/mdb076rm.pgm  \n",
            "  inflating: MIASDBv1.21/mdb077ll.pgm  \n",
            "  inflating: MIASDBv1.21/mdb078rl.pgm  \n",
            "  inflating: MIASDBv1.21/mdb079lm.pgm  \n",
            "  inflating: MIASDBv1.21/mdb080rm.pgm  \n",
            "  inflating: MIASDBv1.21/mdb081ll.pgm  \n",
            "  inflating: MIASDBv1.21/mdb082rl.pgm  \n",
            "  inflating: MIASDBv1.21/mdb083ll.pgm  \n",
            "  inflating: MIASDBv1.21/mdb084rl.pgm  \n",
            "  inflating: MIASDBv1.21/mdb085lm.pgm  \n",
            "  inflating: MIASDBv1.21/mdb086rm.pgm  \n",
            "  inflating: MIASDBv1.21/mdb087lm.pgm  \n",
            "  inflating: MIASDBv1.21/mdb088rm.pgm  \n",
            "  inflating: MIASDBv1.21/mdb089lm.pgm  \n",
            "  inflating: MIASDBv1.21/mdb090rm.pgm  \n",
            "  inflating: MIASDBv1.21/mdb091lm.pgm  \n",
            "  inflating: MIASDBv1.21/mdb092rm.pgm  \n",
            "  inflating: MIASDBv1.21/mdb093lm.pgm  \n",
            "  inflating: MIASDBv1.21/mdb094rm.pgm  \n",
            "  inflating: MIASDBv1.21/mdb095ll.pgm  \n",
            "  inflating: MIASDBv1.21/mdb096rl.pgm  \n",
            "  inflating: MIASDBv1.21/mdb097ll.pgm  \n",
            "  inflating: MIASDBv1.21/mdb098rl.pgm  \n",
            "  inflating: MIASDBv1.21/mdb099lm.pgm  \n",
            "  inflating: MIASDBv1.21/mdb100rm.pgm  \n",
            "  inflating: MIASDBv1.21/mdb101lm.pgm  \n",
            "  inflating: MIASDBv1.21/mdb102rm.pgm  \n",
            "  inflating: MIASDBv1.21/mdb103lm.pgm  \n",
            "  inflating: MIASDBv1.21/mdb104rm.pgm  \n",
            "  inflating: MIASDBv1.21/mdb105ll.pgm  \n",
            "  inflating: MIASDBv1.21/mdb106rl.pgm  \n",
            "  inflating: MIASDBv1.21/mdb107ll.pgm  \n",
            "  inflating: MIASDBv1.21/mdb108rl.pgm  \n",
            "  inflating: MIASDBv1.21/mdb109ll.pgm  \n",
            "  inflating: MIASDBv1.21/mdb110rl.pgm  \n",
            "  inflating: MIASDBv1.21/mdb111ll.pgm  \n",
            "  inflating: MIASDBv1.21/mdb112rl.pgm  \n",
            "  inflating: MIASDBv1.21/mdb113ls.pgm  \n",
            "  inflating: MIASDBv1.21/mdb114rs.pgm  \n",
            "  inflating: MIASDBv1.21/mdb115ll.pgm  \n",
            "  inflating: MIASDBv1.21/mdb116rl.pgm  \n",
            "  inflating: MIASDBv1.21/mdb117ll.pgm  \n",
            "  inflating: MIASDBv1.21/mdb118rl.pgm  \n",
            "  inflating: MIASDBv1.21/mdb119ll.pgm  \n",
            "  inflating: MIASDBv1.21/mdb120rl.pgm  \n",
            "  inflating: MIASDBv1.21/mdb121ll.pgm  \n",
            "  inflating: MIASDBv1.21/mdb122rl.pgm  \n",
            "  inflating: MIASDBv1.21/mdb123lm.pgm  \n",
            "  inflating: MIASDBv1.21/mdb124rm.pgm  \n",
            "  inflating: MIASDBv1.21/mdb125ll.pgm  \n",
            "  inflating: MIASDBv1.21/mdb126rl.pgm  \n",
            "  inflating: MIASDBv1.21/mdb127lm.pgm  \n",
            "  inflating: MIASDBv1.21/mdb128rm.pgm  \n",
            "  inflating: MIASDBv1.21/mdb129ll.pgm  \n",
            "  inflating: MIASDBv1.21/mdb130rl.pgm  \n",
            "  inflating: MIASDBv1.21/mdb131lx.pgm  \n",
            "  inflating: MIASDBv1.21/mdb132rx.pgm  \n",
            "  inflating: MIASDBv1.21/mdb133lx.pgm  \n",
            "  inflating: MIASDBv1.21/mdb134rx.pgm  \n",
            "  inflating: MIASDBv1.21/mdb135lx.pgm  \n",
            "  inflating: MIASDBv1.21/mdb136rx.pgm  \n",
            "  inflating: MIASDBv1.21/mdb137ll.pgm  \n",
            "  inflating: MIASDBv1.21/mdb138rl.pgm  \n",
            "  inflating: MIASDBv1.21/mdb139lx.pgm  \n",
            "  inflating: MIASDBv1.21/mdb140rx.pgm  \n",
            "  inflating: MIASDBv1.21/mdb141lx.pgm  \n",
            "  inflating: MIASDBv1.21/mdb142rx.pgm  \n",
            "  inflating: MIASDBv1.21/mdb143lx.pgm  \n",
            "  inflating: MIASDBv1.21/mdb144rx.pgm  \n",
            "  inflating: MIASDBv1.21/mdb145lx.pgm  \n",
            "  inflating: MIASDBv1.21/mdb146rx.pgm  \n",
            "  inflating: MIASDBv1.21/mdb147lx.pgm  \n",
            "  inflating: MIASDBv1.21/mdb148rx.pgm  \n",
            "  inflating: MIASDBv1.21/mdb149lx.pgm  \n",
            "  inflating: MIASDBv1.21/mdb150rx.pgm  \n",
            "  inflating: MIASDBv1.21/mdb151lx.pgm  \n",
            "  inflating: MIASDBv1.21/mdb152rx.pgm  \n",
            "  inflating: MIASDBv1.21/mdb153lx.pgm  \n",
            "  inflating: MIASDBv1.21/mdb154rx.pgm  \n",
            "  inflating: MIASDBv1.21/mdb155ll.pgm  \n",
            "  inflating: MIASDBv1.21/mdb156rl.pgm  \n",
            "  inflating: MIASDBv1.21/mdb157lm.pgm  \n",
            "  inflating: MIASDBv1.21/mdb158rm.pgm  \n",
            "  inflating: MIASDBv1.21/mdb159ll.pgm  \n",
            "  inflating: MIASDBv1.21/mdb160rl.pgm  \n",
            "  inflating: MIASDBv1.21/mdb161lm.pgm  \n",
            "  inflating: MIASDBv1.21/mdb162rm.pgm  \n",
            "  inflating: MIASDBv1.21/mdb163ll.pgm  \n",
            "  inflating: MIASDBv1.21/mdb164rl.pgm  \n",
            "  inflating: MIASDBv1.21/mdb165ls.pgm  \n",
            "  inflating: MIASDBv1.21/mdb166rs.pgm  \n",
            "  inflating: MIASDBv1.21/mdb167ll.pgm  \n",
            "  inflating: MIASDBv1.21/mdb168rl.pgm  \n",
            "  inflating: MIASDBv1.21/mdb169lm.pgm  \n",
            "  inflating: MIASDBv1.21/mdb170rm.pgm  \n",
            "  inflating: MIASDBv1.21/mdb171ll.pgm  \n",
            "  inflating: MIASDBv1.21/mdb172rl.pgm  \n",
            "  inflating: MIASDBv1.21/mdb173ll.pgm  \n",
            "  inflating: MIASDBv1.21/mdb174rl.pgm  \n",
            "  inflating: MIASDBv1.21/mdb175lm.pgm  \n",
            "  inflating: MIASDBv1.21/mdb176rm.pgm  \n",
            "  inflating: MIASDBv1.21/mdb177ls.pgm  \n",
            "  inflating: MIASDBv1.21/mdb178rs.pgm  \n",
            "  inflating: MIASDBv1.21/mdb179ls.pgm  \n",
            "  inflating: MIASDBv1.21/mdb180rs.pgm  \n",
            "  inflating: MIASDBv1.21/mdb181lm.pgm  \n",
            "  inflating: MIASDBv1.21/mdb182rm.pgm  \n",
            "  inflating: MIASDBv1.21/mdb183ll.pgm  \n",
            "  inflating: MIASDBv1.21/mdb184rl.pgm  \n",
            "  inflating: MIASDBv1.21/mdb185ls.pgm  \n",
            "  inflating: MIASDBv1.21/mdb186rs.pgm  \n",
            "  inflating: MIASDBv1.21/mdb187lm.pgm  \n",
            "  inflating: MIASDBv1.21/mdb188rm.pgm  \n",
            "  inflating: MIASDBv1.21/mdb189ll.pgm  \n",
            "  inflating: MIASDBv1.21/mdb190rl.pgm  \n",
            "  inflating: MIASDBv1.21/mdb191ls.pgm  \n",
            "  inflating: MIASDBv1.21/mdb192rs.pgm  \n",
            "  inflating: MIASDBv1.21/mdb193ll.pgm  \n",
            "  inflating: MIASDBv1.21/mdb194rl.pgm  \n",
            "  inflating: MIASDBv1.21/mdb195ll.pgm  \n",
            "  inflating: MIASDBv1.21/mdb196rl.pgm  \n",
            "  inflating: MIASDBv1.21/mdb197lm.pgm  \n",
            "  inflating: MIASDBv1.21/mdb198rm.pgm  \n",
            "  inflating: MIASDBv1.21/mdb199lm.pgm  \n",
            "  inflating: MIASDBv1.21/mdb200rm.pgm  \n",
            "  inflating: MIASDBv1.21/mdb201ll.pgm  \n",
            "  inflating: MIASDBv1.21/mdb202rl.pgm  \n",
            "  inflating: MIASDBv1.21/mdb203ll.pgm  \n",
            "  inflating: MIASDBv1.21/mdb204rl.pgm  \n",
            "  inflating: MIASDBv1.21/mdb205ll.pgm  \n",
            "  inflating: MIASDBv1.21/mdb206rl.pgm  \n",
            "  inflating: MIASDBv1.21/mdb207lm.pgm  \n",
            "  inflating: MIASDBv1.21/mdb208rm.pgm  \n",
            "  inflating: MIASDBv1.21/mdb209ll.pgm  \n",
            "  inflating: MIASDBv1.21/mdb210rl.pgm  \n",
            "  inflating: MIASDBv1.21/mdb211lm.pgm  \n",
            "  inflating: MIASDBv1.21/mdb212rm.pgm  \n",
            "  inflating: MIASDBv1.21/mdb213ls.pgm  \n",
            "  inflating: MIASDBv1.21/mdb214rs.pgm  \n",
            "  inflating: MIASDBv1.21/mdb215ll.pgm  \n",
            "  inflating: MIASDBv1.21/mdb216rl.pgm  \n",
            "  inflating: MIASDBv1.21/mdb217ll.pgm  \n",
            "  inflating: MIASDBv1.21/mdb218rl.pgm  \n",
            "  inflating: MIASDBv1.21/mdb219ll.pgm  \n",
            "  inflating: MIASDBv1.21/mdb220rl.pgm  \n",
            "  inflating: MIASDBv1.21/mdb221lm.pgm  \n",
            "  inflating: MIASDBv1.21/mdb222rm.pgm  \n",
            "  inflating: MIASDBv1.21/mdb223ls.pgm  \n",
            "  inflating: MIASDBv1.21/mdb224rs.pgm  \n",
            "  inflating: MIASDBv1.21/mdb225lm.pgm  \n",
            "  inflating: MIASDBv1.21/mdb226rm.pgm  \n",
            "  inflating: MIASDBv1.21/mdb227lm.pgm  \n",
            "  inflating: MIASDBv1.21/mdb228rm.pgm  \n",
            "  inflating: MIASDBv1.21/mdb229ll.pgm  \n",
            "  inflating: MIASDBv1.21/mdb230rl.pgm  \n",
            "  inflating: MIASDBv1.21/mdb231ll.pgm  \n",
            "  inflating: MIASDBv1.21/mdb232rl.pgm  \n",
            "  inflating: MIASDBv1.21/mdb233lm.pgm  \n",
            "  inflating: MIASDBv1.21/mdb234rm.pgm  \n",
            "  inflating: MIASDBv1.21/mdb235ll.pgm  \n",
            "  inflating: MIASDBv1.21/mdb236rl.pgm  \n",
            "  inflating: MIASDBv1.21/mdb237lm.pgm  \n",
            "  inflating: MIASDBv1.21/mdb238rm.pgm  \n",
            "  inflating: MIASDBv1.21/mdb239ll.pgm  \n",
            "  inflating: MIASDBv1.21/mdb240rl.pgm  \n",
            "  inflating: MIASDBv1.21/mdb241ls.pgm  \n",
            "  inflating: MIASDBv1.21/mdb242rs.pgm  \n",
            "  inflating: MIASDBv1.21/mdb243lm.pgm  \n",
            "  inflating: MIASDBv1.21/mdb244rm.pgm  \n",
            "  inflating: MIASDBv1.21/mdb245ls.pgm  \n",
            "  inflating: MIASDBv1.21/mdb246rs.pgm  \n",
            "  inflating: MIASDBv1.21/mdb247ll.pgm  \n",
            "  inflating: MIASDBv1.21/mdb248rl.pgm  \n",
            "  inflating: MIASDBv1.21/mdb249lm.pgm  \n",
            "  inflating: MIASDBv1.21/mdb250rm.pgm  \n",
            "  inflating: MIASDBv1.21/mdb251lm.pgm  \n",
            "  inflating: MIASDBv1.21/mdb252rm.pgm  \n",
            "  inflating: MIASDBv1.21/mdb253ll.pgm  \n",
            "  inflating: MIASDBv1.21/mdb254rl.pgm  \n",
            "  inflating: MIASDBv1.21/mdb255ll.pgm  \n",
            "  inflating: MIASDBv1.21/mdb256rl.pgm  \n",
            "  inflating: MIASDBv1.21/mdb257ll.pgm  \n",
            "  inflating: MIASDBv1.21/mdb258rl.pgm  \n",
            "  inflating: MIASDBv1.21/mdb259ll.pgm  \n",
            "  inflating: MIASDBv1.21/mdb260rl.pgm  \n",
            "  inflating: MIASDBv1.21/mdb261ls.pgm  \n",
            "  inflating: MIASDBv1.21/mdb262rs.pgm  \n",
            "  inflating: MIASDBv1.21/mdb263lm.pgm  \n",
            "  inflating: MIASDBv1.21/mdb264rm.pgm  \n",
            "  inflating: MIASDBv1.21/mdb265lm.pgm  \n",
            "  inflating: MIASDBv1.21/mdb266rm.pgm  \n",
            "  inflating: MIASDBv1.21/mdb267ll.pgm  \n",
            "  inflating: MIASDBv1.21/mdb268rl.pgm  \n",
            "  inflating: MIASDBv1.21/mdb269lm.pgm  \n",
            "  inflating: MIASDBv1.21/mdb270rm.pgm  \n",
            "  inflating: MIASDBv1.21/mdb271ll.pgm  \n",
            "  inflating: MIASDBv1.21/mdb272rl.pgm  \n",
            "  inflating: MIASDBv1.21/mdb273ll.pgm  \n",
            "  inflating: MIASDBv1.21/mdb274rx.pgm  \n",
            "  inflating: MIASDBv1.21/mdb275ll.pgm  \n",
            "  inflating: MIASDBv1.21/mdb276rl.pgm  \n",
            "  inflating: MIASDBv1.21/mdb277lm.pgm  \n",
            "  inflating: MIASDBv1.21/mdb278rm.pgm  \n",
            "  inflating: MIASDBv1.21/mdb279ll.pgm  \n",
            "  inflating: MIASDBv1.21/mdb280rx.pgm  \n",
            "  inflating: MIASDBv1.21/mdb281lm.pgm  \n",
            "  inflating: MIASDBv1.21/mdb282rm.pgm  \n",
            "  inflating: MIASDBv1.21/mdb283lm.pgm  \n",
            "  inflating: MIASDBv1.21/mdb284rm.pgm  \n",
            "  inflating: MIASDBv1.21/mdb285lm.pgm  \n",
            "  inflating: MIASDBv1.21/mdb286rm.pgm  \n",
            "  inflating: MIASDBv1.21/mdb287ls.pgm  \n",
            "  inflating: MIASDBv1.21/mdb288rs.pgm  \n",
            "  inflating: MIASDBv1.21/mdb289ls.pgm  \n",
            "  inflating: MIASDBv1.21/mdb290rs.pgm  \n",
            "  inflating: MIASDBv1.21/mdb291ll.pgm  \n",
            "  inflating: MIASDBv1.21/mdb292rl.pgm  \n",
            "  inflating: MIASDBv1.21/mdb293ll.pgm  \n",
            "  inflating: MIASDBv1.21/mdb294rl.pgm  \n",
            "  inflating: MIASDBv1.21/mdb295ll.pgm  \n",
            "  inflating: MIASDBv1.21/mdb296rl.pgm  \n",
            "  inflating: MIASDBv1.21/mdb297ll.pgm  \n",
            "  inflating: MIASDBv1.21/mdb298rl.pgm  \n",
            "  inflating: MIASDBv1.21/mdb299ll.pgm  \n",
            "  inflating: MIASDBv1.21/mdb300rl.pgm  \n",
            "  inflating: MIASDBv1.21/mdb301lm.pgm  \n",
            "  inflating: MIASDBv1.21/mdb302rm.pgm  \n",
            "  inflating: MIASDBv1.21/mdb303lm.pgm  \n",
            "  inflating: MIASDBv1.21/mdb304rm.pgm  \n",
            "  inflating: MIASDBv1.21/mdb305lm.pgm  \n",
            "  inflating: MIASDBv1.21/mdb306rm.pgm  \n",
            "  inflating: MIASDBv1.21/mdb307ll.pgm  \n",
            "  inflating: MIASDBv1.21/mdb308rl.pgm  \n",
            "  inflating: MIASDBv1.21/mdb309ll.pgm  \n",
            "  inflating: MIASDBv1.21/mdb310rl.pgm  \n",
            "  inflating: MIASDBv1.21/mdb311ll.pgm  \n",
            "  inflating: MIASDBv1.21/mdb312rl.pgm  \n",
            "  inflating: MIASDBv1.21/mdb313ll.pgm  \n",
            "  inflating: MIASDBv1.21/mdb314rl.pgm  \n",
            "  inflating: MIASDBv1.21/mdb315ll.pgm  \n",
            "  inflating: MIASDBv1.21/mdb316rl.pgm  \n",
            "  inflating: MIASDBv1.21/mdb317ls.pgm  \n",
            "  inflating: MIASDBv1.21/mdb318rs.pgm  \n",
            "  inflating: MIASDBv1.21/mdb319ll.pgm  \n",
            "  inflating: MIASDBv1.21/mdb320rl.pgm  \n",
            "  inflating: MIASDBv1.21/mdb321lm.pgm  \n",
            "  inflating: MIASDBv1.21/mdb322rm.pgm  \n",
            "  inflating: MIASDBv1.21/MIASDB Excerpta Medica 1994.pdf  \n"
          ]
        }
      ]
    },
    {
      "cell_type": "code",
      "source": [
        "!python folder.py"
      ],
      "metadata": {
        "colab": {
          "base_uri": "https://localhost:8080/"
        },
        "id": "hUIe-jj52vbN",
        "outputId": "4fbc6e5c-1bd4-4d57-8701-83b84e3b189e"
      },
      "execution_count": 3,
      "outputs": [
        {
          "output_type": "stream",
          "name": "stdout",
          "text": [
            "文件夹 origin 已存在。\n",
            "已创建文件夹: noisy_images\n",
            "已创建文件夹: clean_images\n"
          ]
        }
      ]
    },
    {
      "cell_type": "code",
      "source": [
        "!python introduce.py"
      ],
      "metadata": {
        "id": "kNY8-qy96owt",
        "colab": {
          "base_uri": "https://localhost:8080/"
        },
        "outputId": "5609d205-7fab-442c-e5d3-126fe996b619"
      },
      "execution_count": 9,
      "outputs": [
        {
          "output_type": "stream",
          "name": "stdout",
          "text": [
            "Processing Images: 100% 322/322 [00:11<00:00, 29.20it/s]\n"
          ]
        }
      ]
    },
    {
      "cell_type": "code",
      "source": [
        "# prompt: 对noisy_images下的文件执行def add_gaussian_noise(image):     \"\"\"     向图像添加高斯噪声     :param image: 灰度图像数组     :return: 添加噪声后的图像     \"\"\"     row, col = image.shape     mean = 0     # var = 1.5     sigma = 50     gauss = np.random.normal(mean, sigma, (row, col))     noisy_image = image + gauss     noisy_image = np.clip(noisy_image, 0, 255)  # 裁剪到 0-255 范围     return noisy_image.astype(np.uint8)  # 转换为 uint8 类型\n",
        "import os\n",
        "import numpy as np\n",
        "from PIL import Image\n",
        "import cv2\n",
        "from tqdm import tqdm\n",
        "\n",
        "def add_gaussian_noise(image):\n",
        "    \"\"\"\n",
        "    向图像添加高斯噪声\n",
        "    :param image: 灰度图像数组\n",
        "    :return: 添加噪声后的图像\n",
        "    \"\"\"\n",
        "    row, col = image.shape\n",
        "    mean = 0\n",
        "    # var = 1.5\n",
        "    sigma = 50\n",
        "    gauss = np.random.normal(mean, sigma, (row, col))\n",
        "    noisy_image = image + gauss\n",
        "    noisy_image = np.clip(noisy_image, 0, 255)  # 裁剪到 0-255 范围\n",
        "    return noisy_image.astype(np.uint8)  # 转换为 uint8 类型\n",
        "\n",
        "for i in os.listdir('./noisy_images'):\n",
        "  noisy_image = cv2.imread('./noisy_images/%s' % i, 0)\n",
        "  noisy_image = add_gaussian_noise(noisy_image)\n",
        "  cv2.imwrite('./noisy_images/%s' % i, noisy_image)\n"
      ],
      "metadata": {
        "id": "868GFZBfML44"
      },
      "execution_count": 10,
      "outputs": []
    },
    {
      "cell_type": "code",
      "execution_count": 11,
      "outputs": [
        {
          "output_type": "stream",
          "name": "stdout",
          "text": [
            "选中的图像: mdb098rl.pgm\n",
            "噪声水平 (MSE): 92.24391174316406\n"
          ]
        }
      ],
      "source": [
        "!python test_noise.py"
      ],
      "metadata": {
        "colab": {
          "base_uri": "https://localhost:8080/"
        },
        "id": "lt4bzx9rCJLI",
        "outputId": "2aee168b-b9b6-428b-b4fd-51ce996c9c63"
      }
    },
    {
      "cell_type": "code",
      "source": [
        "# prompt: 将目前文件夹里的py文件打包\n",
        "\n",
        "!zip -r my_py_files.zip *.py\n"
      ],
      "metadata": {
        "id": "GyUQo7xWO8Eq",
        "outputId": "05d2b115-8f6c-45eb-e631-9e50878baac4",
        "colab": {
          "base_uri": "https://localhost:8080/"
        }
      },
      "execution_count": 12,
      "outputs": [
        {
          "output_type": "stream",
          "name": "stdout",
          "text": [
            "  adding: data_setting.py (deflated 59%)\n",
            "  adding: folder.py (deflated 67%)\n",
            "  adding: introduce.py (deflated 57%)\n",
            "  adding: predict.py (deflated 54%)\n",
            "  adding: preprocess.py (deflated 45%)\n",
            "  adding: test_noise.py (deflated 53%)\n",
            "  adding: train.py (deflated 47%)\n",
            "  adding: unet.py (deflated 69%)\n",
            "  adding: VGG_init.py (deflated 44%)\n"
          ]
        }
      ]
    },
    {
      "cell_type": "code",
      "source": [
        "!python VGG_init.py\n"
      ],
      "metadata": {
        "id": "sJ3D-ydEu5ia"
      },
      "execution_count": 9,
      "outputs": []
    },
    {
      "cell_type": "code",
      "source": [
        "!python train.py"
      ],
      "metadata": {
        "id": "JwJgD2CiCCpy",
        "colab": {
          "base_uri": "https://localhost:8080/"
        },
        "outputId": "c0b8b2eb-a6cf-412f-f254-607bbe457cf7"
      },
      "execution_count": 11,
      "outputs": [
        {
          "output_type": "stream",
          "name": "stdout",
          "text": [
            "/usr/local/lib/python3.10/dist-packages/torchvision/models/_utils.py:208: UserWarning: The parameter 'pretrained' is deprecated since 0.13 and may be removed in the future, please use 'weights' instead.\n",
            "  warnings.warn(\n",
            "/usr/local/lib/python3.10/dist-packages/torchvision/models/_utils.py:223: UserWarning: Arguments other than a weight enum or `None` for 'weights' are deprecated since 0.13 and may be removed in the future. The current behavior is equivalent to passing `weights=VGG16_Weights.IMAGENET1K_V1`. You can also use `weights=VGG16_Weights.DEFAULT` to get the most up-to-date weights.\n",
            "  warnings.warn(msg)\n",
            "Downloading: \"https://download.pytorch.org/models/vgg16-397923af.pth\" to /root/.cache/torch/hub/checkpoints/vgg16-397923af.pth\n",
            "100% 528M/528M [00:02<00:00, 210MB/s]\n",
            "Epoch 1/30: 100% 21/21 [00:24<00:00,  1.15s/batch, loss=0.0231]\n",
            "Epoch 2/30: 100% 21/21 [00:23<00:00,  1.11s/batch, loss=0.0247]\n",
            "Epoch 3/30: 100% 21/21 [00:23<00:00,  1.13s/batch, loss=0.0095]\n",
            "Epoch 4/30: 100% 21/21 [00:24<00:00,  1.15s/batch, loss=0.00522]\n",
            "Epoch 5/30: 100% 21/21 [00:24<00:00,  1.18s/batch, loss=0.00539]\n",
            "Epoch 6/30:  38% 8/21 [00:10<00:17,  1.37s/batch, loss=0.00456]\n",
            "Traceback (most recent call last):\n",
            "  File \"/content/Unet_Denoise_with_Tutorial/train.py\", line 51, in <module>\n",
            "    tepoch.set_postfix(loss=loss.item())\n",
            "KeyboardInterrupt\n"
          ]
        }
      ]
    },
    {
      "cell_type": "code",
      "source": [
        "import sys\n",
        "sys.path.append('/content')\n",
        "from basic_func import *"
      ],
      "metadata": {
        "id": "KwO58rVOKsxe"
      },
      "execution_count": null,
      "outputs": []
    },
    {
      "cell_type": "code",
      "source": [
        "print_hello()"
      ],
      "metadata": {
        "colab": {
          "base_uri": "https://localhost:8080/"
        },
        "id": "a7beLkb7KxWG",
        "outputId": "526bb61f-d6da-40ba-e963-54f9d231bbc9"
      },
      "execution_count": null,
      "outputs": [
        {
          "output_type": "stream",
          "name": "stdout",
          "text": [
            "hello world\n"
          ]
        }
      ]
    },
    {
      "cell_type": "code",
      "source": [
        "!python predict.py"
      ],
      "metadata": {
        "colab": {
          "base_uri": "https://localhost:8080/"
        },
        "id": "PSiuN87bT-QD",
        "outputId": "fdd40044-cfb7-4e5a-a843-03b861ed5a75"
      },
      "execution_count": null,
      "outputs": [
        {
          "output_type": "stream",
          "name": "stdout",
          "text": [
            "Writing predict.py\n"
          ]
        }
      ]
    },
    {
      "cell_type": "code",
      "source": [],
      "metadata": {
        "colab": {
          "base_uri": "https://localhost:8080/"
        },
        "id": "J9qS7_ln8W-n",
        "outputId": "ba5de915-5368-40db-d1b8-1d26a340aced"
      },
      "execution_count": null,
      "outputs": [
        {
          "output_type": "stream",
          "name": "stdout",
          "text": [
            "  adding: data_setting.py (deflated 59%)\n",
            "  adding: folder.py (deflated 67%)\n",
            "  adding: introduce.py (deflated 57%)\n",
            "  adding: predict.py (deflated 54%)\n",
            "  adding: preprocess.py (deflated 45%)\n",
            "  adding: test_noise.py (deflated 53%)\n",
            "  adding: train.py (deflated 47%)\n",
            "  adding: unet.py (deflated 69%)\n",
            "  adding: VGG_init.py (deflated 44%)\n",
            "cp: cannot create regular file '/home/user/Downloads/my_py_files.zip': No such file or directory\n"
          ]
        }
      ]
    }
  ]
}