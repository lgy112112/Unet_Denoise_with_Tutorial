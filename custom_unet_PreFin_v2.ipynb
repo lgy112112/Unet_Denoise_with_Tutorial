{
 "nbformat": 4,
 "nbformat_minor": 0,
 "metadata": {
  "colab": {
   "provenance": [],
   "machine_shape": "hm"
  },
  "kernelspec": {
   "name": "python3",
   "display_name": "Python 3"
  },
  "language_info": {
   "name": "python"
  }
 },
 "cells": [
  {
   "cell_type": "code",
   "source": [
    "!wget https://www.repository.cam.ac.uk/bitstreams/5960ab2b-5ea2-4db1-96ac-15b3605e7485/download\n",
    "!unzip download\n",
    "!rm -rf /content/MIASDBv1.21/*.pdf\n",
    "!mv /content/MIASDBv1.21 /content/origin"
   ],
   "metadata": {
    "colab": {
     "base_uri": "https://localhost:8080/"
    },
    "id": "gZMZUxeUuK_R",
    "outputId": "e1b43696-0936-4c6e-e38b-2ab649bbb423"
   },
   "execution_count": 1,
   "outputs": [
    {
     "output_type": "stream",
     "name": "stdout",
     "text": [
      "--2024-01-13 12:29:05--  https://www.repository.cam.ac.uk/bitstreams/5960ab2b-5ea2-4db1-96ac-15b3605e7485/download\n",
      "Resolving www.repository.cam.ac.uk (www.repository.cam.ac.uk)... 131.111.98.102\n",
      "Connecting to www.repository.cam.ac.uk (www.repository.cam.ac.uk)|131.111.98.102|:443... connected.\n",
      "HTTP request sent, awaiting response... 302 Found\n",
      "Location: https://api.repository.cam.ac.uk/server/api/core/bitstreams/5960ab2b-5ea2-4db1-96ac-15b3605e7485/content [following]\n",
      "--2024-01-13 12:29:07--  https://api.repository.cam.ac.uk/server/api/core/bitstreams/5960ab2b-5ea2-4db1-96ac-15b3605e7485/content\n",
      "Resolving api.repository.cam.ac.uk (api.repository.cam.ac.uk)... 131.111.98.101\n",
      "Connecting to api.repository.cam.ac.uk (api.repository.cam.ac.uk)|131.111.98.101|:443... connected.\n",
      "HTTP request sent, awaiting response... 200 200\n",
      "Length: 1617327652 (1.5G) [application/zip]\n",
      "Saving to: ‘download’\n",
      "\n",
      "download            100%[===================>]   1.51G  16.5MB/s    in 94s     \n",
      "\n",
      "2024-01-13 12:30:43 (16.4 MB/s) - ‘download’ saved [1617327652/1617327652]\n",
      "\n",
      "Archive:  download\n",
      "   creating: MIASDBv1.21/\n",
      "  inflating: MIASDBv1.21/00README.pdf  \n",
      "  inflating: MIASDBv1.21/mdb001lm.pgm  \n",
      "  inflating: MIASDBv1.21/mdb002rl.pgm  \n",
      "  inflating: MIASDBv1.21/mdb003ll.pgm  \n",
      "  inflating: MIASDBv1.21/mdb004rl.pgm  \n",
      "  inflating: MIASDBv1.21/mdb005ll.pgm  \n",
      "  inflating: MIASDBv1.21/mdb006rl.pgm  \n",
      "  inflating: MIASDBv1.21/mdb007ll.pgm  \n",
      "  inflating: MIASDBv1.21/mdb008rl.pgm  \n",
      "  inflating: MIASDBv1.21/mdb009ll.pgm  \n",
      "  inflating: MIASDBv1.21/mdb010rm.pgm  \n",
      "  inflating: MIASDBv1.21/mdb011ll.pgm  \n",
      "  inflating: MIASDBv1.21/mdb012rl.pgm  \n",
      "  inflating: MIASDBv1.21/mdb013ll.pgm  \n",
      "  inflating: MIASDBv1.21/mdb014rl.pgm  \n",
      "  inflating: MIASDBv1.21/mdb015lm.pgm  \n",
      "  inflating: MIASDBv1.21/mdb016rm.pgm  \n",
      "  inflating: MIASDBv1.21/mdb017ls.pgm  \n",
      "  inflating: MIASDBv1.21/mdb018rs.pgm  \n",
      "  inflating: MIASDBv1.21/mdb019ll.pgm  \n",
      "  inflating: MIASDBv1.21/mdb020rl.pgm  \n",
      "  inflating: MIASDBv1.21/mdb021ll.pgm  \n",
      "  inflating: MIASDBv1.21/mdb022rm.pgm  \n",
      "  inflating: MIASDBv1.21/mdb023ll.pgm  \n",
      "  inflating: MIASDBv1.21/mdb024rl.pgm  \n",
      "  inflating: MIASDBv1.21/mdb025ll.pgm  \n",
      "  inflating: MIASDBv1.21/mdb026rl.pgm  \n",
      "  inflating: MIASDBv1.21/mdb027ll.pgm  \n",
      "  inflating: MIASDBv1.21/mdb028rl.pgm  \n",
      "  inflating: MIASDBv1.21/mdb029ll.pgm  \n",
      "  inflating: MIASDBv1.21/mdb030rm.pgm  \n",
      "  inflating: MIASDBv1.21/mdb031ll.pgm  \n",
      "  inflating: MIASDBv1.21/mdb032rl.pgm  \n",
      "  inflating: MIASDBv1.21/mdb033ls.pgm  \n",
      "  inflating: MIASDBv1.21/mdb034rs.pgm  \n",
      "  inflating: MIASDBv1.21/mdb035ls.pgm  \n",
      "  inflating: MIASDBv1.21/mdb036rs.pgm  \n",
      "  inflating: MIASDBv1.21/mdb037ls.pgm  \n",
      "  inflating: MIASDBv1.21/mdb038rs.pgm  \n",
      "  inflating: MIASDBv1.21/mdb039ls.pgm  \n",
      "  inflating: MIASDBv1.21/mdb040rs.pgm  \n",
      "  inflating: MIASDBv1.21/mdb041ll.pgm  \n",
      "  inflating: MIASDBv1.21/mdb042rl.pgm  \n",
      "  inflating: MIASDBv1.21/mdb043ls.pgm  \n",
      "  inflating: MIASDBv1.21/mdb044rs.pgm  \n",
      "  inflating: MIASDBv1.21/mdb045lm.pgm  \n",
      "  inflating: MIASDBv1.21/mdb046rm.pgm  \n",
      "  inflating: MIASDBv1.21/mdb047lm.pgm  \n",
      "  inflating: MIASDBv1.21/mdb048rm.pgm  \n",
      "  inflating: MIASDBv1.21/mdb049ll.pgm  \n",
      "  inflating: MIASDBv1.21/mdb050rl.pgm  \n",
      "  inflating: MIASDBv1.21/mdb051ll.pgm  \n",
      "  inflating: MIASDBv1.21/mdb052rm.pgm  \n",
      "  inflating: MIASDBv1.21/mdb053ls.pgm  \n",
      "  inflating: MIASDBv1.21/mdb054rs.pgm  \n",
      "  inflating: MIASDBv1.21/mdb055lm.pgm  \n",
      "  inflating: MIASDBv1.21/mdb056rm.pgm  \n",
      "  inflating: MIASDBv1.21/mdb057ll.pgm  \n",
      "  inflating: MIASDBv1.21/mdb058rl.pgm  \n",
      "  inflating: MIASDBv1.21/mdb059ls.pgm  \n",
      "  inflating: MIASDBv1.21/mdb060rs.pgm  \n",
      "  inflating: MIASDBv1.21/mdb061ls.pgm  \n",
      "  inflating: MIASDBv1.21/mdb062rs.pgm  \n",
      "  inflating: MIASDBv1.21/mdb063lm.pgm  \n",
      "  inflating: MIASDBv1.21/mdb064rm.pgm  \n",
      "  inflating: MIASDBv1.21/mdb065lm.pgm  \n",
      "  inflating: MIASDBv1.21/mdb066rm.pgm  \n",
      "  inflating: MIASDBv1.21/mdb067ll.pgm  \n",
      "  inflating: MIASDBv1.21/mdb068rl.pgm  \n",
      "  inflating: MIASDBv1.21/mdb069ll.pgm  \n",
      "  inflating: MIASDBv1.21/mdb070rl.pgm  \n",
      "  inflating: MIASDBv1.21/mdb071lm.pgm  \n",
      "  inflating: MIASDBv1.21/mdb072rm.pgm  \n",
      "  inflating: MIASDBv1.21/mdb073ls.pgm  \n",
      "  inflating: MIASDBv1.21/mdb074rs.pgm  \n",
      "  inflating: MIASDBv1.21/mdb075lm.pgm  \n",
      "  inflating: MIASDBv1.21/mdb076rm.pgm  \n",
      "  inflating: MIASDBv1.21/mdb077ll.pgm  \n",
      "  inflating: MIASDBv1.21/mdb078rl.pgm  \n",
      "  inflating: MIASDBv1.21/mdb079lm.pgm  \n",
      "  inflating: MIASDBv1.21/mdb080rm.pgm  \n",
      "  inflating: MIASDBv1.21/mdb081ll.pgm  \n",
      "  inflating: MIASDBv1.21/mdb082rl.pgm  \n",
      "  inflating: MIASDBv1.21/mdb083ll.pgm  \n",
      "  inflating: MIASDBv1.21/mdb084rl.pgm  \n",
      "  inflating: MIASDBv1.21/mdb085lm.pgm  \n",
      "  inflating: MIASDBv1.21/mdb086rm.pgm  \n",
      "  inflating: MIASDBv1.21/mdb087lm.pgm  \n",
      "  inflating: MIASDBv1.21/mdb088rm.pgm  \n",
      "  inflating: MIASDBv1.21/mdb089lm.pgm  \n",
      "  inflating: MIASDBv1.21/mdb090rm.pgm  \n",
      "  inflating: MIASDBv1.21/mdb091lm.pgm  \n",
      "  inflating: MIASDBv1.21/mdb092rm.pgm  \n",
      "  inflating: MIASDBv1.21/mdb093lm.pgm  \n",
      "  inflating: MIASDBv1.21/mdb094rm.pgm  \n",
      "  inflating: MIASDBv1.21/mdb095ll.pgm  \n",
      "  inflating: MIASDBv1.21/mdb096rl.pgm  \n",
      "  inflating: MIASDBv1.21/mdb097ll.pgm  \n",
      "  inflating: MIASDBv1.21/mdb098rl.pgm  \n",
      "  inflating: MIASDBv1.21/mdb099lm.pgm  \n",
      "  inflating: MIASDBv1.21/mdb100rm.pgm  \n",
      "  inflating: MIASDBv1.21/mdb101lm.pgm  \n",
      "  inflating: MIASDBv1.21/mdb102rm.pgm  \n",
      "  inflating: MIASDBv1.21/mdb103lm.pgm  \n",
      "  inflating: MIASDBv1.21/mdb104rm.pgm  \n",
      "  inflating: MIASDBv1.21/mdb105ll.pgm  \n",
      "  inflating: MIASDBv1.21/mdb106rl.pgm  \n",
      "  inflating: MIASDBv1.21/mdb107ll.pgm  \n",
      "  inflating: MIASDBv1.21/mdb108rl.pgm  \n",
      "  inflating: MIASDBv1.21/mdb109ll.pgm  \n",
      "  inflating: MIASDBv1.21/mdb110rl.pgm  \n",
      "  inflating: MIASDBv1.21/mdb111ll.pgm  \n",
      "  inflating: MIASDBv1.21/mdb112rl.pgm  \n",
      "  inflating: MIASDBv1.21/mdb113ls.pgm  \n",
      "  inflating: MIASDBv1.21/mdb114rs.pgm  \n",
      "  inflating: MIASDBv1.21/mdb115ll.pgm  \n",
      "  inflating: MIASDBv1.21/mdb116rl.pgm  \n",
      "  inflating: MIASDBv1.21/mdb117ll.pgm  \n",
      "  inflating: MIASDBv1.21/mdb118rl.pgm  \n",
      "  inflating: MIASDBv1.21/mdb119ll.pgm  \n",
      "  inflating: MIASDBv1.21/mdb120rl.pgm  \n",
      "  inflating: MIASDBv1.21/mdb121ll.pgm  \n",
      "  inflating: MIASDBv1.21/mdb122rl.pgm  \n",
      "  inflating: MIASDBv1.21/mdb123lm.pgm  \n",
      "  inflating: MIASDBv1.21/mdb124rm.pgm  \n",
      "  inflating: MIASDBv1.21/mdb125ll.pgm  \n",
      "  inflating: MIASDBv1.21/mdb126rl.pgm  \n",
      "  inflating: MIASDBv1.21/mdb127lm.pgm  \n",
      "  inflating: MIASDBv1.21/mdb128rm.pgm  \n",
      "  inflating: MIASDBv1.21/mdb129ll.pgm  \n",
      "  inflating: MIASDBv1.21/mdb130rl.pgm  \n",
      "  inflating: MIASDBv1.21/mdb131lx.pgm  \n",
      "  inflating: MIASDBv1.21/mdb132rx.pgm  \n",
      "  inflating: MIASDBv1.21/mdb133lx.pgm  \n",
      "  inflating: MIASDBv1.21/mdb134rx.pgm  \n",
      "  inflating: MIASDBv1.21/mdb135lx.pgm  \n",
      "  inflating: MIASDBv1.21/mdb136rx.pgm  \n",
      "  inflating: MIASDBv1.21/mdb137ll.pgm  \n",
      "  inflating: MIASDBv1.21/mdb138rl.pgm  \n",
      "  inflating: MIASDBv1.21/mdb139lx.pgm  \n",
      "  inflating: MIASDBv1.21/mdb140rx.pgm  \n",
      "  inflating: MIASDBv1.21/mdb141lx.pgm  \n",
      "  inflating: MIASDBv1.21/mdb142rx.pgm  \n",
      "  inflating: MIASDBv1.21/mdb143lx.pgm  \n",
      "  inflating: MIASDBv1.21/mdb144rx.pgm  \n",
      "  inflating: MIASDBv1.21/mdb145lx.pgm  \n",
      "  inflating: MIASDBv1.21/mdb146rx.pgm  \n",
      "  inflating: MIASDBv1.21/mdb147lx.pgm  \n",
      "  inflating: MIASDBv1.21/mdb148rx.pgm  \n",
      "  inflating: MIASDBv1.21/mdb149lx.pgm  \n",
      "  inflating: MIASDBv1.21/mdb150rx.pgm  \n",
      "  inflating: MIASDBv1.21/mdb151lx.pgm  \n",
      "  inflating: MIASDBv1.21/mdb152rx.pgm  \n",
      "  inflating: MIASDBv1.21/mdb153lx.pgm  \n",
      "  inflating: MIASDBv1.21/mdb154rx.pgm  \n",
      "  inflating: MIASDBv1.21/mdb155ll.pgm  \n",
      "  inflating: MIASDBv1.21/mdb156rl.pgm  \n",
      "  inflating: MIASDBv1.21/mdb157lm.pgm  \n",
      "  inflating: MIASDBv1.21/mdb158rm.pgm  \n",
      "  inflating: MIASDBv1.21/mdb159ll.pgm  \n",
      "  inflating: MIASDBv1.21/mdb160rl.pgm  \n",
      "  inflating: MIASDBv1.21/mdb161lm.pgm  \n",
      "  inflating: MIASDBv1.21/mdb162rm.pgm  \n",
      "  inflating: MIASDBv1.21/mdb163ll.pgm  \n",
      "  inflating: MIASDBv1.21/mdb164rl.pgm  \n",
      "  inflating: MIASDBv1.21/mdb165ls.pgm  \n",
      "  inflating: MIASDBv1.21/mdb166rs.pgm  \n",
      "  inflating: MIASDBv1.21/mdb167ll.pgm  \n",
      "  inflating: MIASDBv1.21/mdb168rl.pgm  \n",
      "  inflating: MIASDBv1.21/mdb169lm.pgm  \n",
      "  inflating: MIASDBv1.21/mdb170rm.pgm  \n",
      "  inflating: MIASDBv1.21/mdb171ll.pgm  \n",
      "  inflating: MIASDBv1.21/mdb172rl.pgm  \n",
      "  inflating: MIASDBv1.21/mdb173ll.pgm  \n",
      "  inflating: MIASDBv1.21/mdb174rl.pgm  \n",
      "  inflating: MIASDBv1.21/mdb175lm.pgm  \n",
      "  inflating: MIASDBv1.21/mdb176rm.pgm  \n",
      "  inflating: MIASDBv1.21/mdb177ls.pgm  \n",
      "  inflating: MIASDBv1.21/mdb178rs.pgm  \n",
      "  inflating: MIASDBv1.21/mdb179ls.pgm  \n",
      "  inflating: MIASDBv1.21/mdb180rs.pgm  \n",
      "  inflating: MIASDBv1.21/mdb181lm.pgm  \n",
      "  inflating: MIASDBv1.21/mdb182rm.pgm  \n",
      "  inflating: MIASDBv1.21/mdb183ll.pgm  \n",
      "  inflating: MIASDBv1.21/mdb184rl.pgm  \n",
      "  inflating: MIASDBv1.21/mdb185ls.pgm  \n",
      "  inflating: MIASDBv1.21/mdb186rs.pgm  \n",
      "  inflating: MIASDBv1.21/mdb187lm.pgm  \n",
      "  inflating: MIASDBv1.21/mdb188rm.pgm  \n",
      "  inflating: MIASDBv1.21/mdb189ll.pgm  \n",
      "  inflating: MIASDBv1.21/mdb190rl.pgm  \n",
      "  inflating: MIASDBv1.21/mdb191ls.pgm  \n",
      "  inflating: MIASDBv1.21/mdb192rs.pgm  \n",
      "  inflating: MIASDBv1.21/mdb193ll.pgm  \n",
      "  inflating: MIASDBv1.21/mdb194rl.pgm  \n",
      "  inflating: MIASDBv1.21/mdb195ll.pgm  \n",
      "  inflating: MIASDBv1.21/mdb196rl.pgm  \n",
      "  inflating: MIASDBv1.21/mdb197lm.pgm  \n",
      "  inflating: MIASDBv1.21/mdb198rm.pgm  \n",
      "  inflating: MIASDBv1.21/mdb199lm.pgm  \n",
      "  inflating: MIASDBv1.21/mdb200rm.pgm  \n",
      "  inflating: MIASDBv1.21/mdb201ll.pgm  \n",
      "  inflating: MIASDBv1.21/mdb202rl.pgm  \n",
      "  inflating: MIASDBv1.21/mdb203ll.pgm  \n",
      "  inflating: MIASDBv1.21/mdb204rl.pgm  \n",
      "  inflating: MIASDBv1.21/mdb205ll.pgm  \n",
      "  inflating: MIASDBv1.21/mdb206rl.pgm  \n",
      "  inflating: MIASDBv1.21/mdb207lm.pgm  \n",
      "  inflating: MIASDBv1.21/mdb208rm.pgm  \n",
      "  inflating: MIASDBv1.21/mdb209ll.pgm  \n",
      "  inflating: MIASDBv1.21/mdb210rl.pgm  \n",
      "  inflating: MIASDBv1.21/mdb211lm.pgm  \n",
      "  inflating: MIASDBv1.21/mdb212rm.pgm  \n",
      "  inflating: MIASDBv1.21/mdb213ls.pgm  \n",
      "  inflating: MIASDBv1.21/mdb214rs.pgm  \n",
      "  inflating: MIASDBv1.21/mdb215ll.pgm  \n",
      "  inflating: MIASDBv1.21/mdb216rl.pgm  \n",
      "  inflating: MIASDBv1.21/mdb217ll.pgm  \n",
      "  inflating: MIASDBv1.21/mdb218rl.pgm  \n",
      "  inflating: MIASDBv1.21/mdb219ll.pgm  \n",
      "  inflating: MIASDBv1.21/mdb220rl.pgm  \n",
      "  inflating: MIASDBv1.21/mdb221lm.pgm  \n",
      "  inflating: MIASDBv1.21/mdb222rm.pgm  \n",
      "  inflating: MIASDBv1.21/mdb223ls.pgm  \n",
      "  inflating: MIASDBv1.21/mdb224rs.pgm  \n",
      "  inflating: MIASDBv1.21/mdb225lm.pgm  \n",
      "  inflating: MIASDBv1.21/mdb226rm.pgm  \n",
      "  inflating: MIASDBv1.21/mdb227lm.pgm  \n",
      "  inflating: MIASDBv1.21/mdb228rm.pgm  \n",
      "  inflating: MIASDBv1.21/mdb229ll.pgm  \n",
      "  inflating: MIASDBv1.21/mdb230rl.pgm  \n",
      "  inflating: MIASDBv1.21/mdb231ll.pgm  \n",
      "  inflating: MIASDBv1.21/mdb232rl.pgm  \n",
      "  inflating: MIASDBv1.21/mdb233lm.pgm  \n",
      "  inflating: MIASDBv1.21/mdb234rm.pgm  \n",
      "  inflating: MIASDBv1.21/mdb235ll.pgm  \n",
      "  inflating: MIASDBv1.21/mdb236rl.pgm  \n",
      "  inflating: MIASDBv1.21/mdb237lm.pgm  \n",
      "  inflating: MIASDBv1.21/mdb238rm.pgm  \n",
      "  inflating: MIASDBv1.21/mdb239ll.pgm  \n",
      "  inflating: MIASDBv1.21/mdb240rl.pgm  \n",
      "  inflating: MIASDBv1.21/mdb241ls.pgm  \n",
      "  inflating: MIASDBv1.21/mdb242rs.pgm  \n",
      "  inflating: MIASDBv1.21/mdb243lm.pgm  \n",
      "  inflating: MIASDBv1.21/mdb244rm.pgm  \n",
      "  inflating: MIASDBv1.21/mdb245ls.pgm  \n",
      "  inflating: MIASDBv1.21/mdb246rs.pgm  \n",
      "  inflating: MIASDBv1.21/mdb247ll.pgm  \n",
      "  inflating: MIASDBv1.21/mdb248rl.pgm  \n",
      "  inflating: MIASDBv1.21/mdb249lm.pgm  \n",
      "  inflating: MIASDBv1.21/mdb250rm.pgm  \n",
      "  inflating: MIASDBv1.21/mdb251lm.pgm  \n",
      "  inflating: MIASDBv1.21/mdb252rm.pgm  \n",
      "  inflating: MIASDBv1.21/mdb253ll.pgm  \n",
      "  inflating: MIASDBv1.21/mdb254rl.pgm  \n",
      "  inflating: MIASDBv1.21/mdb255ll.pgm  \n",
      "  inflating: MIASDBv1.21/mdb256rl.pgm  \n",
      "  inflating: MIASDBv1.21/mdb257ll.pgm  \n",
      "  inflating: MIASDBv1.21/mdb258rl.pgm  \n",
      "  inflating: MIASDBv1.21/mdb259ll.pgm  \n",
      "  inflating: MIASDBv1.21/mdb260rl.pgm  \n",
      "  inflating: MIASDBv1.21/mdb261ls.pgm  \n",
      "  inflating: MIASDBv1.21/mdb262rs.pgm  \n",
      "  inflating: MIASDBv1.21/mdb263lm.pgm  \n",
      "  inflating: MIASDBv1.21/mdb264rm.pgm  \n",
      "  inflating: MIASDBv1.21/mdb265lm.pgm  \n",
      "  inflating: MIASDBv1.21/mdb266rm.pgm  \n",
      "  inflating: MIASDBv1.21/mdb267ll.pgm  \n",
      "  inflating: MIASDBv1.21/mdb268rl.pgm  \n",
      "  inflating: MIASDBv1.21/mdb269lm.pgm  \n",
      "  inflating: MIASDBv1.21/mdb270rm.pgm  \n",
      "  inflating: MIASDBv1.21/mdb271ll.pgm  \n",
      "  inflating: MIASDBv1.21/mdb272rl.pgm  \n",
      "  inflating: MIASDBv1.21/mdb273ll.pgm  \n",
      "  inflating: MIASDBv1.21/mdb274rx.pgm  \n",
      "  inflating: MIASDBv1.21/mdb275ll.pgm  \n",
      "  inflating: MIASDBv1.21/mdb276rl.pgm  \n",
      "  inflating: MIASDBv1.21/mdb277lm.pgm  \n",
      "  inflating: MIASDBv1.21/mdb278rm.pgm  \n",
      "  inflating: MIASDBv1.21/mdb279ll.pgm  \n",
      "  inflating: MIASDBv1.21/mdb280rx.pgm  \n",
      "  inflating: MIASDBv1.21/mdb281lm.pgm  \n",
      "  inflating: MIASDBv1.21/mdb282rm.pgm  \n",
      "  inflating: MIASDBv1.21/mdb283lm.pgm  \n",
      "  inflating: MIASDBv1.21/mdb284rm.pgm  \n",
      "  inflating: MIASDBv1.21/mdb285lm.pgm  \n",
      "  inflating: MIASDBv1.21/mdb286rm.pgm  \n",
      "  inflating: MIASDBv1.21/mdb287ls.pgm  \n",
      "  inflating: MIASDBv1.21/mdb288rs.pgm  \n",
      "  inflating: MIASDBv1.21/mdb289ls.pgm  \n",
      "  inflating: MIASDBv1.21/mdb290rs.pgm  \n",
      "  inflating: MIASDBv1.21/mdb291ll.pgm  \n",
      "  inflating: MIASDBv1.21/mdb292rl.pgm  \n",
      "  inflating: MIASDBv1.21/mdb293ll.pgm  \n",
      "  inflating: MIASDBv1.21/mdb294rl.pgm  \n",
      "  inflating: MIASDBv1.21/mdb295ll.pgm  \n",
      "  inflating: MIASDBv1.21/mdb296rl.pgm  \n",
      "  inflating: MIASDBv1.21/mdb297ll.pgm  \n",
      "  inflating: MIASDBv1.21/mdb298rl.pgm  \n",
      "  inflating: MIASDBv1.21/mdb299ll.pgm  \n",
      "  inflating: MIASDBv1.21/mdb300rl.pgm  \n",
      "  inflating: MIASDBv1.21/mdb301lm.pgm  \n",
      "  inflating: MIASDBv1.21/mdb302rm.pgm  \n",
      "  inflating: MIASDBv1.21/mdb303lm.pgm  \n",
      "  inflating: MIASDBv1.21/mdb304rm.pgm  \n",
      "  inflating: MIASDBv1.21/mdb305lm.pgm  \n",
      "  inflating: MIASDBv1.21/mdb306rm.pgm  \n",
      "  inflating: MIASDBv1.21/mdb307ll.pgm  \n",
      "  inflating: MIASDBv1.21/mdb308rl.pgm  \n",
      "  inflating: MIASDBv1.21/mdb309ll.pgm  \n",
      "  inflating: MIASDBv1.21/mdb310rl.pgm  \n",
      "  inflating: MIASDBv1.21/mdb311ll.pgm  \n",
      "  inflating: MIASDBv1.21/mdb312rl.pgm  \n",
      "  inflating: MIASDBv1.21/mdb313ll.pgm  \n",
      "  inflating: MIASDBv1.21/mdb314rl.pgm  \n",
      "  inflating: MIASDBv1.21/mdb315ll.pgm  \n",
      "  inflating: MIASDBv1.21/mdb316rl.pgm  \n",
      "  inflating: MIASDBv1.21/mdb317ls.pgm  \n",
      "  inflating: MIASDBv1.21/mdb318rs.pgm  \n",
      "  inflating: MIASDBv1.21/mdb319ll.pgm  \n",
      "  inflating: MIASDBv1.21/mdb320rl.pgm  \n",
      "  inflating: MIASDBv1.21/mdb321lm.pgm  \n",
      "  inflating: MIASDBv1.21/mdb322rm.pgm  \n",
      "  inflating: MIASDBv1.21/MIASDB Excerpta Medica 1994.pdf  \n"
     ]
    }
   ]
  },
  {
   "cell_type": "code",
   "source": [
    "!python folder.py"
   ],
   "metadata": {
    "colab": {
     "base_uri": "https://localhost:8080/"
    },
    "id": "hUIe-jj52vbN",
    "outputId": "0b23c21f-f198-4d29-e293-b68204719993"
   },
   "execution_count": 5,
   "outputs": [
    {
     "output_type": "stream",
     "name": "stdout",
     "text": [
      "已创建文件夹: origin\n",
      "已创建文件夹: noisy_images\n",
      "已创建文件夹: clean_images\n"
     ]
    }
   ]
  },
  {
   "cell_type": "code",
   "source": [
    "!python introduce.py"
   ],
   "metadata": {
    "id": "kNY8-qy96owt",
    "colab": {
     "base_uri": "https://localhost:8080/"
    },
    "outputId": "44993968-8063-4489-da58-286f9f847b6b"
   },
   "execution_count": 8,
   "outputs": [
    {
     "output_type": "stream",
     "name": "stdout",
     "text": [
      "Processing Images: 100% 322/322 [02:17<00:00,  2.35it/s]\n"
     ]
    }
   ]
  },
  {
   "cell_type": "code",
   "execution_count": null,
   "outputs": [],
   "source": [
    "!python test_noise.py"
   ],
   "metadata": {
    "collapsed": false
   }
  },
  {
   "cell_type": "code",
   "source": [
    "!python VGG_init.py\n"
   ],
   "metadata": {
    "id": "sJ3D-ydEu5ia",
    "colab": {
     "base_uri": "https://localhost:8080/"
    },
    "outputId": "cafee114-b7c9-4dbb-fc3e-d4d7206f22f8"
   },
   "execution_count": 8,
   "outputs": [
    {
     "output_type": "stream",
     "name": "stdout",
     "text": [
      "Writing VGG_init.py\n"
     ]
    }
   ]
  },
  {
   "cell_type": "code",
   "source": [
    "!python train.py"
   ],
   "metadata": {
    "id": "JwJgD2CiCCpy",
    "colab": {
     "base_uri": "https://localhost:8080/"
    },
    "outputId": "3a21df11-5d88-48c4-c15d-94da4a8afac9"
   },
   "execution_count": 9,
   "outputs": [
    {
     "output_type": "stream",
     "name": "stdout",
     "text": [
      "Writing train.py\n"
     ]
    }
   ]
  },
  {
   "cell_type": "code",
   "source": [
    "import sys\n",
    "sys.path.append('/content')\n",
    "from basic_func import *"
   ],
   "metadata": {
    "id": "KwO58rVOKsxe"
   },
   "execution_count": null,
   "outputs": []
  },
  {
   "cell_type": "code",
   "source": [
    "print_hello()"
   ],
   "metadata": {
    "colab": {
     "base_uri": "https://localhost:8080/"
    },
    "id": "a7beLkb7KxWG",
    "outputId": "526bb61f-d6da-40ba-e963-54f9d231bbc9"
   },
   "execution_count": null,
   "outputs": [
    {
     "output_type": "stream",
     "name": "stdout",
     "text": [
      "hello world\n"
     ]
    }
   ]
  },
  {
   "cell_type": "code",
   "source": [
    "!python predict.py"
   ],
   "metadata": {
    "colab": {
     "base_uri": "https://localhost:8080/"
    },
    "id": "PSiuN87bT-QD",
    "outputId": "fdd40044-cfb7-4e5a-a843-03b861ed5a75"
   },
   "execution_count": 10,
   "outputs": [
    {
     "output_type": "stream",
     "name": "stdout",
     "text": [
      "Writing predict.py\n"
     ]
    }
   ]
  },
  {
   "cell_type": "code",
   "source": [],
   "metadata": {
    "colab": {
     "base_uri": "https://localhost:8080/"
    },
    "id": "J9qS7_ln8W-n",
    "outputId": "ba5de915-5368-40db-d1b8-1d26a340aced"
   },
   "execution_count": 13,
   "outputs": [
    {
     "output_type": "stream",
     "name": "stdout",
     "text": [
      "  adding: data_setting.py (deflated 59%)\n",
      "  adding: folder.py (deflated 67%)\n",
      "  adding: introduce.py (deflated 57%)\n",
      "  adding: predict.py (deflated 54%)\n",
      "  adding: preprocess.py (deflated 45%)\n",
      "  adding: test_noise.py (deflated 53%)\n",
      "  adding: train.py (deflated 47%)\n",
      "  adding: unet.py (deflated 69%)\n",
      "  adding: VGG_init.py (deflated 44%)\n",
      "cp: cannot create regular file '/home/user/Downloads/my_py_files.zip': No such file or directory\n"
     ]
    }
   ]
  }
 ]
}
